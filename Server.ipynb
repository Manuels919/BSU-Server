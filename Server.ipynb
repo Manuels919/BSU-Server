{
  "nbformat": 4,
  "nbformat_minor": 0,
  "metadata": {
    "colab": {
      "provenance": [],
      "collapsed_sections": [
        "e2UY9Fp6r8Hf",
        "he_GVItfsbUo"
      ],
      "authorship_tag": "ABX9TyN4v+gjovy30zifQnjmGhR4"
    },
    "kernelspec": {
      "name": "python3",
      "display_name": "Python 3"
    },
    "language_info": {
      "name": "python"
    }
  },
  "cells": [
    {
      "cell_type": "markdown",
      "source": [
        "#Connecting to SQL Server"
      ],
      "metadata": {
        "id": "J4WA112ZPEom"
      }
    },
    {
      "cell_type": "code",
      "source": [
        "%pip install colab_env -qU sshtunnel pymysql sqlalchemy==1.4.46 MySQLclient"
      ],
      "metadata": {
        "id": "L0B5KV8yXnUv"
      },
      "execution_count": null,
      "outputs": []
    },
    {
      "cell_type": "markdown",
      "source": [
        "**colab_env** to access and edit enviromental variables.\n",
        "\n",
        "**sshtunnel** allows you to create a connection to an ssh server using python.\n",
        "\n",
        "**MySQLclient** grants access to all of the tools desigined to connect to MySQL Server.\n",
        "\n",
        "**pymysql** allows you to perform CRUD (Create, Read, Update, Delete) functions to manage the database.\n",
        "\n",
        "**sqlachemy** facilitates the communication between Python programs and databases."
      ],
      "metadata": {
        "id": "XXWvM03F3Z2v"
      }
    },
    {
      "cell_type": "code",
      "source": [
        "# !more gdrive/My\\ Drive/vars.env"
      ],
      "metadata": {
        "id": "TMN33fO-AeDZ"
      },
      "execution_count": null,
      "outputs": []
    },
    {
      "cell_type": "code",
      "source": [
        "# colab_env.RELOAD()"
      ],
      "metadata": {
        "id": "vGzFxaGhAmmK"
      },
      "execution_count": null,
      "outputs": []
    },
    {
      "cell_type": "code",
      "source": [
        "from google.colab import drive\n",
        "drive.mount('/content/gdrive')"
      ],
      "metadata": {
        "colab": {
          "base_uri": "https://localhost:8080/"
        },
        "id": "98uoFfohEEbG",
        "outputId": "2628eb40-4832-4599-d269-c5af5c9de663"
      },
      "execution_count": null,
      "outputs": [
        {
          "output_type": "stream",
          "name": "stdout",
          "text": [
            "Mounted at /content/gdrive\n"
          ]
        }
      ]
    },
    {
      "cell_type": "code",
      "source": [
        "from google.colab import drive\n",
        "drive.mount('/content/drive')\n",
        "\n",
        "import colab_env\n",
        "#from colab_env import envvar_handler #use to create enviroment variables colab_env.envvar_handler.add_env(\"VAR_NAME\", \"VALUE\", overwrite=True)\n",
        "import os\n",
        "import sshtunnel\n",
        "import logging\n",
        "import pymysql\n",
        "import pandas as pd\n",
        "from sshtunnel import SSHTunnelForwarder\n",
        "import sqlalchemy\n",
        "from sqlalchemy import Table, Column, Integer, Float, VARCHAR, String, DateTime, MetaData\n",
        "import MySQLdb"
      ],
      "metadata": {
        "id": "5MS9PdLAbSB1",
        "colab": {
          "base_uri": "https://localhost:8080/"
        },
        "outputId": "ed334c02-7f49-4bea-f528-00673115e0a1"
      },
      "execution_count": null,
      "outputs": [
        {
          "output_type": "stream",
          "name": "stdout",
          "text": [
            "Drive already mounted at /content/drive; to attempt to forcibly remount, call drive.mount(\"/content/drive\", force_remount=True).\n",
            "Mounted at /content/gdrive\n"
          ]
        }
      ]
    },
    {
      "cell_type": "markdown",
      "source": [
        "##Functions and Variables to Access the Server"
      ],
      "metadata": {
        "id": "FZqcGPBQCXgq"
      }
    },
    {
      "cell_type": "code",
      "source": [
        "#Server Variables\n",
        "SERVER_IP  = os.getenv('SERVER_IP')\n",
        "SERVER_PORT = int(os.getenv('SERVER_PORT')) # or ip\n",
        "SERVER_USER = os.getenv('SERVER_USER')\n",
        "SERVER_USER_PASSWORD  = os.getenv('SERVER_USER_PASSWORD')\n",
        "\n",
        "#Database Variables\n",
        "SQL_SERVER_USER  = os.getenv('SQL_SERVER_USER')\n",
        "SQL_SERVER_USER_PASSWORD = os.getenv('SQL_SERVER_USER_PASSWORD')\n",
        "SQL_DB_NAME  = os.getenv('SQL_DB_NAME')\n",
        "SQL_DP_PORT = int(os.getenv('SQL_DB_PORT'))\n",
        "LOCAL_HOST = os.getenv('Local_Host')"
      ],
      "metadata": {
        "id": "dR2z9lGNU8td"
      },
      "execution_count": null,
      "outputs": []
    },
    {
      "cell_type": "code",
      "source": [
        "#Function to create the connection to the server\n",
        "def serverConnection(verbose=False):\n",
        "\n",
        "  if verbose:\n",
        "    sshtunnel.DEFAULT_LOGLEVEL = logging.DEBUG\n",
        "\n",
        "  global tunnel\n",
        "  #connects to the server and creates a tunnel connection\n",
        "  tunnel = SSHTunnelForwarder((SERVER_IP, SERVER_PORT),\n",
        "                                  ssh_username= SERVER_USER, ssh_password=SERVER_USER_PASSWORD,\n",
        "                                  remote_bind_address=(LOCAL_HOST, SQL_DP_PORT))\n",
        "\n",
        "  tunnel.start()"
      ],
      "metadata": {
        "id": "_cCqVzZmbtLQ"
      },
      "execution_count": null,
      "outputs": []
    },
    {
      "cell_type": "code",
      "source": [
        "#Function to establish a connection to the database using PyMySQL\n",
        "def sqlConnection():\n",
        "\n",
        "  global connection\n",
        "\n",
        "  connection = pymysql.connect(host=LOCAL_HOST, user=SQL_SERVER_USER,\n",
        "                               passwd=SQL_SERVER_USER_PASSWORD, db=SQL_DB_NAME,\n",
        "                               port=tunnel.local_bind_port)\n",
        "\n"
      ],
      "metadata": {
        "id": "ua0ZBuVAeN59"
      },
      "execution_count": null,
      "outputs": []
    },
    {
      "cell_type": "code",
      "source": [
        "#Function that takes a string which will act as the SQL query and returns a dataframe using pandas\n",
        "def runQueryPyMySQL(sql):\n",
        "  #returns a panda dataframe of results from query\n",
        "  return pd.read_sql_query(sql, connection)\n"
      ],
      "metadata": {
        "id": "ZyWUwl7Xg1FM"
      },
      "execution_count": null,
      "outputs": []
    },
    {
      "cell_type": "code",
      "source": [
        "#Function that creates a connection to the DB using SQLAlchemy instead of PyMySQL\n",
        "#Instead of only being able to return a dataframe. This function can execute any\n",
        "#-SQL statement.\n",
        "def runQuerySQLAlchemy(sql=None):\n",
        "  global engine\n",
        "  local_port = str(tunnel.local_bind_port)\n",
        "  engine = sqlalchemy.create_engine(\n",
        "  f'mysql+mysqldb://{SQL_SERVER_USER}:{SQL_SERVER_USER_PASSWORD}@{LOCAL_HOST}:{local_port}/{SQL_DB_NAME}')\n",
        "\n",
        "  if sql == None:\n",
        "    pass\n",
        "  else:\n",
        "    return engine.execute(sql)\n",
        "\n"
      ],
      "metadata": {
        "id": "sXFPnIAfojbB"
      },
      "execution_count": null,
      "outputs": []
    },
    {
      "cell_type": "code",
      "source": [
        "#Function that closes the connection to the SQL Database\n",
        "def closeSQLConnection():\n",
        "  connection.close()"
      ],
      "metadata": {
        "id": "xxlacuXLjdq8"
      },
      "execution_count": null,
      "outputs": []
    },
    {
      "cell_type": "code",
      "source": [
        "#Function that closes the connection the server\n",
        "def closeServerConnection():\n",
        "  tunnel.close"
      ],
      "metadata": {
        "id": "baz8Yrjdgqmj"
      },
      "execution_count": null,
      "outputs": []
    },
    {
      "cell_type": "markdown",
      "source": [
        "##Executing SQL Commands"
      ],
      "metadata": {
        "id": "JW2XBY_hCeTR"
      }
    },
    {
      "cell_type": "code",
      "source": [
        "serverConnection() #Creates server connection"
      ],
      "metadata": {
        "id": "Ef5aRuJui0l3"
      },
      "execution_count": null,
      "outputs": []
    },
    {
      "cell_type": "code",
      "source": [
        "sqlConnection() #Creates database connection using PyMySQL"
      ],
      "metadata": {
        "id": "x8zJaSj9jGkW"
      },
      "execution_count": null,
      "outputs": []
    },
    {
      "cell_type": "code",
      "source": [
        "runQuerySQLAlchemy() #Creates database connection using SQLAlchemy engine"
      ],
      "metadata": {
        "id": "1XQYLfYcEyUs"
      },
      "execution_count": null,
      "outputs": []
    },
    {
      "cell_type": "code",
      "source": [
        "temp = engine.execute(\"SHOW TABLES\").fetchall()\n",
        "\n",
        "\n",
        "temp"
      ],
      "metadata": {
        "id": "TDl8MdeWnEym",
        "colab": {
          "base_uri": "https://localhost:8080/"
        },
        "outputId": "511a0556-9254-45b3-ddfa-6c36174df702"
      },
      "execution_count": null,
      "outputs": [
        {
          "output_type": "stream",
          "name": "stderr",
          "text": [
            "WARNING:py.warnings:<ipython-input-6-b626a7d97186>:1: RemovedIn20Warning: Deprecated API features detected! These feature(s) are not compatible with SQLAlchemy 2.0. To prevent incompatible upgrades prior to updating applications, ensure requirements files are pinned to \"sqlalchemy<2.0\". Set environment variable SQLALCHEMY_WARN_20=1 to show all deprecation warnings.  Set environment variable SQLALCHEMY_SILENCE_UBER_WARNING=1 to silence this message. (Background on SQLAlchemy 2.0 at: https://sqlalche.me/e/b8d9)\n",
            "  temp = engine.execute(\"SHOW TABLES\").fetchall()\n",
            "\n"
          ]
        },
        {
          "output_type": "execute_result",
          "data": {
            "text/plain": [
              "[('Completers',),\n",
              " ('NYS',),\n",
              " ('NYSCTE',),\n",
              " ('PSTE',),\n",
              " ('Students',),\n",
              " ('Taskstream',)]"
            ]
          },
          "metadata": {},
          "execution_count": 6
        }
      ]
    },
    {
      "cell_type": "code",
      "source": [
        "##Inititalizes metadata object that stores the information of the table or any object that references it\n",
        "metadata_obj = MetaData()\n"
      ],
      "metadata": {
        "id": "sBvmLeKSk-y7"
      },
      "execution_count": null,
      "outputs": []
    },
    {
      "cell_type": "code",
      "source": [
        "# #Creates Taskstream table\n",
        "# #When creating tables be mindful that column names must match the the column of the dataframe\n",
        "# Taskstream = Table(\n",
        "#     \"Taskstream\", metadata_obj,\n",
        "#     Column(\"StudentID\", String(16), nullable=False),\n",
        "#     Column(\"ProgramName\", String(255)),\n",
        "#     Column(\"Name\", String(255)),\n",
        "#     Column(\"CriteriaName\", VARCHAR(1050)),\n",
        "#     Column(\"RubricRowPoints\", Float()),\n",
        "#     Column(\"timestamp\", DateTime()),\n",
        "# )\n",
        "\n",
        "# Completers = Table(\n",
        "#     \"Completers\", metadata_obj,\n",
        "#     Column(\"BANNER_ID\", String(16), nullable=False),\n",
        "#     Column(\"DEGREE_MAJORid\", String(20)),\n",
        "#     Column(\"GRAD_TERM\", Integer()),\n",
        "#     Column(\"COHORT\", String(25)),\n",
        "#     Column(\"AdvInit\", String(15)),\n",
        "#     Column(\"ProgGroup\", String(255)),\n",
        "#     Column(\"ProgAbbrev\", String(50)),\n",
        "#     Column(\"ProgLevel\", String(5)),\n",
        "# )\n",
        "\n",
        "# uniqueCompleters = Table(\n",
        "#     \"Students\", metadata_obj,\n",
        "#     Column(\"BANNER_ID\", String(16), nullable=False, primary_key=True),\n",
        "#     Column(\"ETHNICITY\", String(20)),\n",
        "#     Column(\"GENDER\", String(16)),\n",
        "# )"
      ],
      "metadata": {
        "id": "j7PAZXFvPQ0K"
      },
      "execution_count": null,
      "outputs": []
    },
    {
      "cell_type": "code",
      "source": [
        "##The engine executes all of the objects that are stored within the metadata object\n",
        "# metadata_obj.create_all(engine)"
      ],
      "metadata": {
        "id": "kBLGXpNlhUOI"
      },
      "execution_count": null,
      "outputs": []
    },
    {
      "cell_type": "markdown",
      "source": [
        "Append data to sql table"
      ],
      "metadata": {
        "id": "aIUnNhFfT4PA"
      }
    },
    {
      "cell_type": "code",
      "source": [
        "# taskstreamDF = pd.read_csv('/content/drive/MyDrive/R Manuel Work Study Folder/Output Files/Taskstream.csv')\n",
        "# completersDF = pd.read_csv('/content/gdrive/MyDrive/R Manuel Work Study Folder/Output Files/221026completers.csv')\n",
        "# uniqueCompletersDF = pd.read_csv('/content/drive/MyDrive/R Manuel Work Study Folder/Output Files/uniqueCompleters.csv')"
      ],
      "metadata": {
        "id": "Zov7bWtbW4Uc"
      },
      "execution_count": null,
      "outputs": []
    },
    {
      "cell_type": "code",
      "source": [
        "##Completers dataframe has not been added yet\n",
        "\n",
        "## To repalce data in table use code below\n",
        "# DATAFRAME.to_sql(\"TABLE NAME\", engine, if_exists=\"replace\", index=False)\n",
        "\n",
        "##Data was already addded to database. If adding data to existing database use \"append\"\n",
        "\n",
        "# uniqueCompletersDF.to_sql(\"Students\", engine, if_exists=\"append\", index=False)\n",
        "# taskstreamDF.to_sql(\"Taskstream\", engine, if_exists=\"append\", index=False)\n",
        "# completersDF.to_sql(\"Completers\", engine, if_exists=\"append\", index=False)"
      ],
      "metadata": {
        "id": "chfFJ1qOYAwF"
      },
      "execution_count": null,
      "outputs": []
    },
    {
      "cell_type": "markdown",
      "source": [
        "Rename table names ask Tiffany"
      ],
      "metadata": {
        "id": "pawq7vy0IZab"
      }
    },
    {
      "cell_type": "code",
      "source": [
        "# engine.execute(\"ALTER TABLE x RENAME y TO z;\")"
      ],
      "metadata": {
        "id": "NKqX0K27H7rn"
      },
      "execution_count": null,
      "outputs": []
    },
    {
      "cell_type": "markdown",
      "source": [
        "##Using pandas to Read Table Data"
      ],
      "metadata": {
        "id": "VXnCybXHF_hh"
      }
    },
    {
      "cell_type": "markdown",
      "source": [
        "Once the data is on the server pandas has a built in function that use the engine created after running the runQuerySQLAlchemy to read the data directly into a dataframe."
      ],
      "metadata": {
        "id": "662yzk9CGFts"
      }
    },
    {
      "cell_type": "code",
      "source": [
        "df = pd.read_sql_table('Taskstream', engine)"
      ],
      "metadata": {
        "id": "5juBcPkdYa-G"
      },
      "execution_count": null,
      "outputs": []
    },
    {
      "cell_type": "code",
      "source": [
        "df.head()"
      ],
      "metadata": {
        "colab": {
          "base_uri": "https://localhost:8080/",
          "height": 206
        },
        "id": "r__RYGovYdIl",
        "outputId": "260ab8bb-5650-4c0b-e2d8-6649dd00b592"
      },
      "execution_count": null,
      "outputs": [
        {
          "output_type": "execute_result",
          "data": {
            "text/plain": [
              "  StudentID FirstName LastName              ProgramName  \\\n",
              "0    H05910   zachary  boehler  Art Education, Advanced   \n",
              "1    H05910   zachary  boehler  Art Education, Advanced   \n",
              "2    H05910   zachary  boehler  Art Education, Advanced   \n",
              "3    H05910   zachary  boehler  Art Education, Advanced   \n",
              "4    H05910   zachary  boehler  Art Education, Advanced   \n",
              "\n",
              "                                                Name  \\\n",
              "0  CAEP Advanced Programs Capstone 690 Rubric (cu...   \n",
              "1  CAEP Advanced Programs Capstone 690 Rubric (cu...   \n",
              "2  CAEP Advanced Programs Capstone 690 Rubric (cu...   \n",
              "3  CAEP Advanced Programs Capstone 690 Rubric (cu...   \n",
              "4  CAEP Advanced Programs Capstone 690 Rubric (cu...   \n",
              "\n",
              "                                        CriteriaName  RubricRowPoints  \\\n",
              "0  Evidence based contribution to the teaching pr...              4.0   \n",
              "1  Specialized pedagogical knowledge  CAEP A.1.2 ...              3.0   \n",
              "2  Impact on P-12 student-learning growth and / o...              4.0   \n",
              "3  Professional Responsibility CAEP A.1.1 (Collab...              4.0   \n",
              "4  Technology CAEP A.1.1 (Tech, Data, Lit) CAEP A...              3.5   \n",
              "\n",
              "            timestamp  \n",
              "0 2020-01-22 09:55:01  \n",
              "1 2020-01-22 09:55:01  \n",
              "2 2020-01-22 09:55:01  \n",
              "3 2020-01-22 09:55:01  \n",
              "4 2020-01-22 09:55:01  "
            ],
            "text/html": [
              "\n",
              "  <div id=\"df-1d93a3f5-4a3c-4f5c-8856-044fbd90f6fe\">\n",
              "    <div class=\"colab-df-container\">\n",
              "      <div>\n",
              "<style scoped>\n",
              "    .dataframe tbody tr th:only-of-type {\n",
              "        vertical-align: middle;\n",
              "    }\n",
              "\n",
              "    .dataframe tbody tr th {\n",
              "        vertical-align: top;\n",
              "    }\n",
              "\n",
              "    .dataframe thead th {\n",
              "        text-align: right;\n",
              "    }\n",
              "</style>\n",
              "<table border=\"1\" class=\"dataframe\">\n",
              "  <thead>\n",
              "    <tr style=\"text-align: right;\">\n",
              "      <th></th>\n",
              "      <th>StudentID</th>\n",
              "      <th>FirstName</th>\n",
              "      <th>LastName</th>\n",
              "      <th>ProgramName</th>\n",
              "      <th>Name</th>\n",
              "      <th>CriteriaName</th>\n",
              "      <th>RubricRowPoints</th>\n",
              "      <th>timestamp</th>\n",
              "    </tr>\n",
              "  </thead>\n",
              "  <tbody>\n",
              "    <tr>\n",
              "      <th>0</th>\n",
              "      <td>H05910</td>\n",
              "      <td>zachary</td>\n",
              "      <td>boehler</td>\n",
              "      <td>Art Education, Advanced</td>\n",
              "      <td>CAEP Advanced Programs Capstone 690 Rubric (cu...</td>\n",
              "      <td>Evidence based contribution to the teaching pr...</td>\n",
              "      <td>4.0</td>\n",
              "      <td>2020-01-22 09:55:01</td>\n",
              "    </tr>\n",
              "    <tr>\n",
              "      <th>1</th>\n",
              "      <td>H05910</td>\n",
              "      <td>zachary</td>\n",
              "      <td>boehler</td>\n",
              "      <td>Art Education, Advanced</td>\n",
              "      <td>CAEP Advanced Programs Capstone 690 Rubric (cu...</td>\n",
              "      <td>Specialized pedagogical knowledge  CAEP A.1.2 ...</td>\n",
              "      <td>3.0</td>\n",
              "      <td>2020-01-22 09:55:01</td>\n",
              "    </tr>\n",
              "    <tr>\n",
              "      <th>2</th>\n",
              "      <td>H05910</td>\n",
              "      <td>zachary</td>\n",
              "      <td>boehler</td>\n",
              "      <td>Art Education, Advanced</td>\n",
              "      <td>CAEP Advanced Programs Capstone 690 Rubric (cu...</td>\n",
              "      <td>Impact on P-12 student-learning growth and / o...</td>\n",
              "      <td>4.0</td>\n",
              "      <td>2020-01-22 09:55:01</td>\n",
              "    </tr>\n",
              "    <tr>\n",
              "      <th>3</th>\n",
              "      <td>H05910</td>\n",
              "      <td>zachary</td>\n",
              "      <td>boehler</td>\n",
              "      <td>Art Education, Advanced</td>\n",
              "      <td>CAEP Advanced Programs Capstone 690 Rubric (cu...</td>\n",
              "      <td>Professional Responsibility CAEP A.1.1 (Collab...</td>\n",
              "      <td>4.0</td>\n",
              "      <td>2020-01-22 09:55:01</td>\n",
              "    </tr>\n",
              "    <tr>\n",
              "      <th>4</th>\n",
              "      <td>H05910</td>\n",
              "      <td>zachary</td>\n",
              "      <td>boehler</td>\n",
              "      <td>Art Education, Advanced</td>\n",
              "      <td>CAEP Advanced Programs Capstone 690 Rubric (cu...</td>\n",
              "      <td>Technology CAEP A.1.1 (Tech, Data, Lit) CAEP A...</td>\n",
              "      <td>3.5</td>\n",
              "      <td>2020-01-22 09:55:01</td>\n",
              "    </tr>\n",
              "  </tbody>\n",
              "</table>\n",
              "</div>\n",
              "      <button class=\"colab-df-convert\" onclick=\"convertToInteractive('df-1d93a3f5-4a3c-4f5c-8856-044fbd90f6fe')\"\n",
              "              title=\"Convert this dataframe to an interactive table.\"\n",
              "              style=\"display:none;\">\n",
              "        \n",
              "  <svg xmlns=\"http://www.w3.org/2000/svg\" height=\"24px\"viewBox=\"0 0 24 24\"\n",
              "       width=\"24px\">\n",
              "    <path d=\"M0 0h24v24H0V0z\" fill=\"none\"/>\n",
              "    <path d=\"M18.56 5.44l.94 2.06.94-2.06 2.06-.94-2.06-.94-.94-2.06-.94 2.06-2.06.94zm-11 1L8.5 8.5l.94-2.06 2.06-.94-2.06-.94L8.5 2.5l-.94 2.06-2.06.94zm10 10l.94 2.06.94-2.06 2.06-.94-2.06-.94-.94-2.06-.94 2.06-2.06.94z\"/><path d=\"M17.41 7.96l-1.37-1.37c-.4-.4-.92-.59-1.43-.59-.52 0-1.04.2-1.43.59L10.3 9.45l-7.72 7.72c-.78.78-.78 2.05 0 2.83L4 21.41c.39.39.9.59 1.41.59.51 0 1.02-.2 1.41-.59l7.78-7.78 2.81-2.81c.8-.78.8-2.07 0-2.86zM5.41 20L4 18.59l7.72-7.72 1.47 1.35L5.41 20z\"/>\n",
              "  </svg>\n",
              "      </button>\n",
              "      \n",
              "  <style>\n",
              "    .colab-df-container {\n",
              "      display:flex;\n",
              "      flex-wrap:wrap;\n",
              "      gap: 12px;\n",
              "    }\n",
              "\n",
              "    .colab-df-convert {\n",
              "      background-color: #E8F0FE;\n",
              "      border: none;\n",
              "      border-radius: 50%;\n",
              "      cursor: pointer;\n",
              "      display: none;\n",
              "      fill: #1967D2;\n",
              "      height: 32px;\n",
              "      padding: 0 0 0 0;\n",
              "      width: 32px;\n",
              "    }\n",
              "\n",
              "    .colab-df-convert:hover {\n",
              "      background-color: #E2EBFA;\n",
              "      box-shadow: 0px 1px 2px rgba(60, 64, 67, 0.3), 0px 1px 3px 1px rgba(60, 64, 67, 0.15);\n",
              "      fill: #174EA6;\n",
              "    }\n",
              "\n",
              "    [theme=dark] .colab-df-convert {\n",
              "      background-color: #3B4455;\n",
              "      fill: #D2E3FC;\n",
              "    }\n",
              "\n",
              "    [theme=dark] .colab-df-convert:hover {\n",
              "      background-color: #434B5C;\n",
              "      box-shadow: 0px 1px 3px 1px rgba(0, 0, 0, 0.15);\n",
              "      filter: drop-shadow(0px 1px 2px rgba(0, 0, 0, 0.3));\n",
              "      fill: #FFFFFF;\n",
              "    }\n",
              "  </style>\n",
              "\n",
              "      <script>\n",
              "        const buttonEl =\n",
              "          document.querySelector('#df-1d93a3f5-4a3c-4f5c-8856-044fbd90f6fe button.colab-df-convert');\n",
              "        buttonEl.style.display =\n",
              "          google.colab.kernel.accessAllowed ? 'block' : 'none';\n",
              "\n",
              "        async function convertToInteractive(key) {\n",
              "          const element = document.querySelector('#df-1d93a3f5-4a3c-4f5c-8856-044fbd90f6fe');\n",
              "          const dataTable =\n",
              "            await google.colab.kernel.invokeFunction('convertToInteractive',\n",
              "                                                     [key], {});\n",
              "          if (!dataTable) return;\n",
              "\n",
              "          const docLinkHtml = 'Like what you see? Visit the ' +\n",
              "            '<a target=\"_blank\" href=https://colab.research.google.com/notebooks/data_table.ipynb>data table notebook</a>'\n",
              "            + ' to learn more about interactive tables.';\n",
              "          element.innerHTML = '';\n",
              "          dataTable['output_type'] = 'display_data';\n",
              "          await google.colab.output.renderOutput(dataTable, element);\n",
              "          const docLink = document.createElement('div');\n",
              "          docLink.innerHTML = docLinkHtml;\n",
              "          element.appendChild(docLink);\n",
              "        }\n",
              "      </script>\n",
              "    </div>\n",
              "  </div>\n",
              "  "
            ]
          },
          "metadata": {},
          "execution_count": 24
        }
      ]
    },
    {
      "cell_type": "code",
      "source": [
        "df2 = pd.read_sql_table('Students', engine)"
      ],
      "metadata": {
        "id": "jAVG9HaEYiCW"
      },
      "execution_count": null,
      "outputs": []
    },
    {
      "cell_type": "code",
      "source": [
        "df2.head()"
      ],
      "metadata": {
        "colab": {
          "base_uri": "https://localhost:8080/",
          "height": 206
        },
        "id": "-f31XXEKYm7-",
        "outputId": "dd3b702c-223d-4e63-ee54-de007f4af892"
      },
      "execution_count": null,
      "outputs": [
        {
          "output_type": "execute_result",
          "data": {
            "text/plain": [
              "  BANNER_ID     ETHNICITY GENDER\n",
              "0   H010010     B - Black      F\n",
              "1    H01008     W - White      F\n",
              "2   H010101  H - Hispanic      M\n",
              "3  H0101010     A - Asian      F\n",
              "4  H0101011     B - Black      F"
            ],
            "text/html": [
              "\n",
              "  <div id=\"df-f60b6fdd-dd3e-44fb-994c-e53efa09a638\">\n",
              "    <div class=\"colab-df-container\">\n",
              "      <div>\n",
              "<style scoped>\n",
              "    .dataframe tbody tr th:only-of-type {\n",
              "        vertical-align: middle;\n",
              "    }\n",
              "\n",
              "    .dataframe tbody tr th {\n",
              "        vertical-align: top;\n",
              "    }\n",
              "\n",
              "    .dataframe thead th {\n",
              "        text-align: right;\n",
              "    }\n",
              "</style>\n",
              "<table border=\"1\" class=\"dataframe\">\n",
              "  <thead>\n",
              "    <tr style=\"text-align: right;\">\n",
              "      <th></th>\n",
              "      <th>BANNER_ID</th>\n",
              "      <th>ETHNICITY</th>\n",
              "      <th>GENDER</th>\n",
              "    </tr>\n",
              "  </thead>\n",
              "  <tbody>\n",
              "    <tr>\n",
              "      <th>0</th>\n",
              "      <td>H010010</td>\n",
              "      <td>B - Black</td>\n",
              "      <td>F</td>\n",
              "    </tr>\n",
              "    <tr>\n",
              "      <th>1</th>\n",
              "      <td>H01008</td>\n",
              "      <td>W - White</td>\n",
              "      <td>F</td>\n",
              "    </tr>\n",
              "    <tr>\n",
              "      <th>2</th>\n",
              "      <td>H010101</td>\n",
              "      <td>H - Hispanic</td>\n",
              "      <td>M</td>\n",
              "    </tr>\n",
              "    <tr>\n",
              "      <th>3</th>\n",
              "      <td>H0101010</td>\n",
              "      <td>A - Asian</td>\n",
              "      <td>F</td>\n",
              "    </tr>\n",
              "    <tr>\n",
              "      <th>4</th>\n",
              "      <td>H0101011</td>\n",
              "      <td>B - Black</td>\n",
              "      <td>F</td>\n",
              "    </tr>\n",
              "  </tbody>\n",
              "</table>\n",
              "</div>\n",
              "      <button class=\"colab-df-convert\" onclick=\"convertToInteractive('df-f60b6fdd-dd3e-44fb-994c-e53efa09a638')\"\n",
              "              title=\"Convert this dataframe to an interactive table.\"\n",
              "              style=\"display:none;\">\n",
              "        \n",
              "  <svg xmlns=\"http://www.w3.org/2000/svg\" height=\"24px\"viewBox=\"0 0 24 24\"\n",
              "       width=\"24px\">\n",
              "    <path d=\"M0 0h24v24H0V0z\" fill=\"none\"/>\n",
              "    <path d=\"M18.56 5.44l.94 2.06.94-2.06 2.06-.94-2.06-.94-.94-2.06-.94 2.06-2.06.94zm-11 1L8.5 8.5l.94-2.06 2.06-.94-2.06-.94L8.5 2.5l-.94 2.06-2.06.94zm10 10l.94 2.06.94-2.06 2.06-.94-2.06-.94-.94-2.06-.94 2.06-2.06.94z\"/><path d=\"M17.41 7.96l-1.37-1.37c-.4-.4-.92-.59-1.43-.59-.52 0-1.04.2-1.43.59L10.3 9.45l-7.72 7.72c-.78.78-.78 2.05 0 2.83L4 21.41c.39.39.9.59 1.41.59.51 0 1.02-.2 1.41-.59l7.78-7.78 2.81-2.81c.8-.78.8-2.07 0-2.86zM5.41 20L4 18.59l7.72-7.72 1.47 1.35L5.41 20z\"/>\n",
              "  </svg>\n",
              "      </button>\n",
              "      \n",
              "  <style>\n",
              "    .colab-df-container {\n",
              "      display:flex;\n",
              "      flex-wrap:wrap;\n",
              "      gap: 12px;\n",
              "    }\n",
              "\n",
              "    .colab-df-convert {\n",
              "      background-color: #E8F0FE;\n",
              "      border: none;\n",
              "      border-radius: 50%;\n",
              "      cursor: pointer;\n",
              "      display: none;\n",
              "      fill: #1967D2;\n",
              "      height: 32px;\n",
              "      padding: 0 0 0 0;\n",
              "      width: 32px;\n",
              "    }\n",
              "\n",
              "    .colab-df-convert:hover {\n",
              "      background-color: #E2EBFA;\n",
              "      box-shadow: 0px 1px 2px rgba(60, 64, 67, 0.3), 0px 1px 3px 1px rgba(60, 64, 67, 0.15);\n",
              "      fill: #174EA6;\n",
              "    }\n",
              "\n",
              "    [theme=dark] .colab-df-convert {\n",
              "      background-color: #3B4455;\n",
              "      fill: #D2E3FC;\n",
              "    }\n",
              "\n",
              "    [theme=dark] .colab-df-convert:hover {\n",
              "      background-color: #434B5C;\n",
              "      box-shadow: 0px 1px 3px 1px rgba(0, 0, 0, 0.15);\n",
              "      filter: drop-shadow(0px 1px 2px rgba(0, 0, 0, 0.3));\n",
              "      fill: #FFFFFF;\n",
              "    }\n",
              "  </style>\n",
              "\n",
              "      <script>\n",
              "        const buttonEl =\n",
              "          document.querySelector('#df-f60b6fdd-dd3e-44fb-994c-e53efa09a638 button.colab-df-convert');\n",
              "        buttonEl.style.display =\n",
              "          google.colab.kernel.accessAllowed ? 'block' : 'none';\n",
              "\n",
              "        async function convertToInteractive(key) {\n",
              "          const element = document.querySelector('#df-f60b6fdd-dd3e-44fb-994c-e53efa09a638');\n",
              "          const dataTable =\n",
              "            await google.colab.kernel.invokeFunction('convertToInteractive',\n",
              "                                                     [key], {});\n",
              "          if (!dataTable) return;\n",
              "\n",
              "          const docLinkHtml = 'Like what you see? Visit the ' +\n",
              "            '<a target=\"_blank\" href=https://colab.research.google.com/notebooks/data_table.ipynb>data table notebook</a>'\n",
              "            + ' to learn more about interactive tables.';\n",
              "          element.innerHTML = '';\n",
              "          dataTable['output_type'] = 'display_data';\n",
              "          await google.colab.output.renderOutput(dataTable, element);\n",
              "          const docLink = document.createElement('div');\n",
              "          docLink.innerHTML = docLinkHtml;\n",
              "          element.appendChild(docLink);\n",
              "        }\n",
              "      </script>\n",
              "    </div>\n",
              "  </div>\n",
              "  "
            ]
          },
          "metadata": {},
          "execution_count": 26
        }
      ]
    },
    {
      "cell_type": "code",
      "source": [
        "closeSQLConnection() #Only needs to be used when using runQueryPyMySQL() or when reading the table directly using pandas"
      ],
      "metadata": {
        "id": "-JsUqvQ48THW"
      },
      "execution_count": null,
      "outputs": []
    },
    {
      "cell_type": "code",
      "source": [
        "closeServerConnection() #Closes the connection to the server"
      ],
      "metadata": {
        "id": "ZH0NSVIxjcdH"
      },
      "execution_count": null,
      "outputs": []
    },
    {
      "cell_type": "markdown",
      "source": [
        "##Check if table exits before adding to the database\n",
        "Look through code\n",
        "https://stackoverflow.com/questions/33053241/sqlalchemy-if-table-does-not-exist"
      ],
      "metadata": {
        "id": "e2UY9Fp6r8Hf"
      }
    },
    {
      "cell_type": "code",
      "source": [
        "# if not engine.dialect.has_table(engine, Variable_tableName):  # If table does not exist, Create.\n",
        "#     metadata = MetaData(engine)\n",
        "#     # Create a table with the appropriate Columns\n",
        "#     Table(Variable_tableName, metadata,\n",
        "#           Column('Column Name', Data Type, primary_key=True, nullable=False),\n",
        "#           Column('Column Name', Data Type),\n",
        "#           Column('Column Name', Data Type),\n",
        "#           Column('Column Name', Data Type),\n",
        "#           Column('Column Name', Data Type),\n",
        "#     # Implement the creation\n",
        "#     metadata.create_all(engine)"
      ],
      "metadata": {
        "id": "fonduZkQr6ig"
      },
      "execution_count": null,
      "outputs": []
    },
    {
      "cell_type": "code",
      "source": [
        "# df = runQueryPyMySQL(\"SELECT * FROM Completers\")\n",
        "# df.head()"
      ],
      "metadata": {
        "id": "kvF_bf1riiOR"
      },
      "execution_count": null,
      "outputs": []
    },
    {
      "cell_type": "markdown",
      "source": [
        "#SQLAlchemy Documentation\n",
        "\n",
        "https://docs.sqlalchemy.org/en/14/core/engines.html\n",
        "\n",
        "https://docs.sqlalchemy.org/en/14/core/metadata.html"
      ],
      "metadata": {
        "id": "he_GVItfsbUo"
      }
    },
    {
      "cell_type": "markdown",
      "source": [
        "#Read CSV to SQL Server\n",
        "\n",
        "https://www.andrewvillazon.com/move-data-to-db-with-sqlalchemy/"
      ],
      "metadata": {
        "id": "TslVoMoZjX9u"
      }
    },
    {
      "cell_type": "markdown",
      "source": [
        "# Save Server.py File"
      ],
      "metadata": {
        "id": "finJq1u1njM9"
      }
    },
    {
      "cell_type": "code",
      "source": [
        "%%writefile \"/content/gdrive/MyDrive/R Manuel Work Study Folder/database/Server2.py\"\n",
        "\n",
        "def installpackages():\n",
        "  import subprocess\n",
        "  import sys\n",
        "\n",
        "  packages = [\"colab_env\", \"sshtunnel\", \"pymysql\", \"sqlalchemy==1.4.46\", \"MySQLclient\"]\n",
        "  for x in packages:\n",
        "    subprocess.check_call([sys.executable, \"-m\", \"pip\", \"install\", x])\n",
        "\n",
        "\n",
        "def createVariables():\n",
        "  #Server Variables\n",
        "  globals() [\"SERVER_IP\"]  = os.environ['SERVER_IP']\n",
        "  globals() [\"SERVER_PORT\"] = int(os.environ['SERVER_PORT']) # or ip\n",
        "  globals() [\"SERVER_USER\"] = os.environ['SERVER_USER']\n",
        "  globals() [\"SERVER_USER_PASSWORD\"] = os.environ['SERVER_USER_PASSWORD']\n",
        "  #Database variables\n",
        "  globals() [\"SQL_SERVER_USER\"]  = os.environ['SQL_SERVER_USER']\n",
        "  globals() [\"SQL_SERVER_USER_PASSWORD\"] = os.environ['SQL_SERVER_USER_PASSWORD']\n",
        "  #globals() [\"SQL_DB_NAME\"]  = os.environ['SQL_DB_NAME']\n",
        "  globals() [\"SQL_DP_PORT\"] = int(os.environ['SQL_DB_PORT'])\n",
        "  globals() [\"LOCAL_HOST\"] = os.environ['Local_Host']\n",
        "\n",
        "\n",
        "def serverConnection(verbose=False):\n",
        "\n",
        "  if verbose:\n",
        "    sshtunnel.DEFAULT_LOGLEVEL = logging.DEBUG\n",
        "\n",
        "  global tunnel\n",
        "  #connects to the server and creates a tunnel connection\n",
        "  tunnel = SSHTunnelForwarder((SERVER_IP, SERVER_PORT),\n",
        "                                  ssh_username= SERVER_USER, ssh_password=SERVER_USER_PASSWORD,\n",
        "                                  remote_bind_address=(LOCAL_HOST, SQL_DP_PORT))\n",
        "\n",
        "  tunnel.start()\n",
        "\n",
        "#Function to establish a connection to the database using PyMySQL\n",
        "def sqlConnection(DB_Name):\n",
        "\n",
        "  globals() ['DB_Name'] = DB_Name\n",
        "\n",
        "  globals() ['connection'] = pymysql.connect(host=LOCAL_HOST, user=SQL_SERVER_USER,\n",
        "                               passwd=SQL_SERVER_USER_PASSWORD, db=DB_Name,\n",
        "                               port=tunnel.local_bind_port)\n",
        "\n",
        "\n",
        "#Function that takes a string which will act as the SQL query and returns a dataframe using pandas\n",
        "def runQueryPyMySQL(sql):\n",
        "  local_port = str(tunnel.local_bind_port)\n",
        "\n",
        "  globals() ['engine'] = sqlalchemy.create_engine(\n",
        "  f'mysql+mysqldb://{SQL_SERVER_USER}:{SQL_SERVER_USER_PASSWORD}@{LOCAL_HOST}:{local_port}/{DB_Name}')\n",
        "\n",
        "  #returns a panda dataframe of results from query\n",
        "  return pd.read_sql_query(sql, engine)\n",
        "\n",
        "#Function that creates a connection to the DB using SQLAlchemy instead of PyMySQL\n",
        "#Instead of only being able to return a dataframe. This function can execute any\n",
        "#-SQL statement.\n",
        "def runQuerySQLAlchemy(sql=None):\n",
        "  local_port = str(tunnel.local_bind_port)\n",
        "\n",
        "  globals() ['engine'] = sqlalchemy.create_engine(\n",
        "  f'mysql+mysqldb://{SQL_SERVER_USER}:{SQL_SERVER_USER_PASSWORD}@{LOCAL_HOST}:{local_port}/{DB_Name}')\n",
        "\n",
        "  if sql == None:\n",
        "    pass\n",
        "  else:\n",
        "    return engine.execute(sql).fetchall()\n",
        "\n",
        "#Function that closes the connection to the SQL Database\n",
        "def closeSQLConnection():\n",
        "  connection.close()\n",
        "\n",
        "#Function that closes the connection the server\n",
        "def closeServerConnection():\n",
        "  tunnel.close\n",
        "\n",
        "\n",
        "installpackages()\n",
        "\n",
        "import os\n",
        "import colab_env\n",
        "import sshtunnel\n",
        "import logging\n",
        "import pymysql\n",
        "import pandas as pd\n",
        "from sshtunnel import SSHTunnelForwarder\n",
        "import sqlalchemy\n",
        "from sqlalchemy import Table, Column, Integer, Float, VARCHAR, String, DateTime, MetaData\n",
        "import MySQLdb\n",
        "\n",
        "\n",
        "createVariables()"
      ],
      "metadata": {
        "colab": {
          "base_uri": "https://localhost:8080/"
        },
        "outputId": "917156a2-b527-43df-e6e5-8582ebe68246",
        "id": "woz_hkRpnm2l"
      },
      "execution_count": null,
      "outputs": [
        {
          "output_type": "stream",
          "name": "stdout",
          "text": [
            "Overwriting /content/gdrive/MyDrive/R Manuel Work Study Folder/database/Server2.py\n"
          ]
        }
      ]
    },
    {
      "cell_type": "code",
      "source": [],
      "metadata": {
        "id": "SEo3l7Q0tTbN"
      },
      "execution_count": null,
      "outputs": []
    }
  ]
}